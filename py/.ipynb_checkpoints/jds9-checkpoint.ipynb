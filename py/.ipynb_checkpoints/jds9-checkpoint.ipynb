{
 "cells": [
  {
   "cell_type": "code",
   "execution_count": null,
   "metadata": {
    "collapsed": true
   },
   "outputs": [],
   "source": [
    "%%html\n",
    "<div class=\"JS9Menubar\"></div>\n",
    "<div class=\"JS9\"></div>\n",
    "<link type=\"text/css\" rel=\"stylesheet\" href=\"http://js9.si.edu/jupyter/js9-allinone.css\">\n",
    "<script type=\"text/javascript\" src=\"http://js9.si.edu/jupyter/js9-allinone.js\"></script>"
   ]
  }
 ],
 "metadata": {
  "kernelspec": {
   "display_name": "Python 2",
   "language": "python",
   "name": "python2"
  },
  "language_info": {
   "codemirror_mode": {
    "name": "ipython",
    "version": 2
   },
   "file_extension": ".py",
   "mimetype": "text/x-python",
   "name": "python",
   "nbconvert_exporter": "python",
   "pygments_lexer": "ipython2",
   "version": "2.7.11"
  }
 },
 "nbformat": 4,
 "nbformat_minor": 0
}
