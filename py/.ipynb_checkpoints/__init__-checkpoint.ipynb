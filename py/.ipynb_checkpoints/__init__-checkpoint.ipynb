{
 "cells": [
  {
   "cell_type": "code",
   "execution_count": null,
   "metadata": {
    "collapsed": true
   },
   "outputs": [],
   "source": [
    "# plotting\n",
    "import matplotlib as mpl\n",
    "mpl.use('Agg')\n",
    "import matplotlib.pyplot as plt\n",
    "mpl.rc('image', interpolation='none', origin='lower')\n",
    "\n",
    "import seaborn as sns\n",
    "sns.set(context='poster', style='ticks', color_codes=True)\n",
    "\n",
    "# numpy\n",
    "import numpy as np\n",
    "from numpy import *\n",
    "from numpy.random import *\n",
    "from numpy.random import choice\n",
    "\n",
    "# scipy\n",
    "import scipy as sp\n",
    "from scipy import ndimage\n",
    "from scipy.interpolate import *\n",
    "from scipy.special import erfinv, erf\n",
    "from scipy.stats import poisson as pss\n",
    "from scipy import ndimage\n",
    "\n",
    "# multiprocessing\n",
    "import multiprocessing as mp\n",
    "\n",
    "# healpy\n",
    "import healpy as hp\n",
    "from healpy.rotator import angdist\n",
    "from healpy import ang2pix\n",
    "\n",
    "# pyfits\n",
    "import pyfits as pf\n",
    "\n",
    "# utilities\n",
    "import os, time, sys, datetime, warnings, getpass, glob, fnmatch\n",
    "\n",
    "# tdpy\n",
    "import pnts_tran\n",
    "import tdpy_util\n",
    "\n",
    "#listmodl = glob.glob(os.path.dirname(__file__) + \"/*.py\")\n",
    "#__all__ = [os.path.basename(modl)[:-3] for modl in listmodl if os.path.isfile(modl)]"
   ]
  }
 ],
 "metadata": {
  "kernelspec": {
   "display_name": "Python 2",
   "language": "python",
   "name": "python2"
  },
  "language_info": {
   "codemirror_mode": {
    "name": "ipython",
    "version": 2
   },
   "file_extension": ".py",
   "mimetype": "text/x-python",
   "name": "python",
   "nbconvert_exporter": "python",
   "pygments_lexer": "ipython2",
   "version": "2.7.10"
  }
 },
 "nbformat": 4,
 "nbformat_minor": 0
}
